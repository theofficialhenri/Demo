{
    "cells": [
        {
            "cell_type": "code",
            "execution_count": null,
            "metadata": {},
            "outputs": [],
            "source": ""
        },
        {
            "cell_type": "code",
            "execution_count": 1,
            "metadata": {},
            "outputs": [
                {
                    "name": "stdout",
                    "output_type": "stream",
                    "text": "Waiting for a Spark session to start...\nSpark Initialization Done! ApplicationId = app-20200923023345-0000\nKERNEL_ID = 442c4a7c-dd55-4f4a-8147-28dbe65733f0\n"
                },
                {
                    "data": {
                        "text/plain": "[Row(AGE='63', SEX='1', CP='1', TESTPBS='145', CHOL='233', FBS='1', RESTECG='2', THALACH='150', EXANG='0', OLDPEAK='2.3', SLOPE='3', CA='0', THAL='6', NUM='0'),\n Row(AGE='67', SEX='1', CP='4', TESTPBS='160', CHOL='286', FBS='0', RESTECG='2', THALACH='108', EXANG='1', OLDPEAK='1.5', SLOPE='2', CA='3', THAL='3', NUM='2'),\n Row(AGE='67', SEX='1', CP='4', TESTPBS='120', CHOL='229', FBS='0', RESTECG='2', THALACH='129', EXANG='1', OLDPEAK='2.6', SLOPE='2', CA='2', THAL='7', NUM='1'),\n Row(AGE='37', SEX='1', CP='3', TESTPBS='130', CHOL='250', FBS='0', RESTECG='0', THALACH='187', EXANG='0', OLDPEAK='3.5', SLOPE='3', CA='0', THAL='3', NUM='0'),\n Row(AGE='41', SEX='0', CP='2', TESTPBS='130', CHOL='204', FBS='0', RESTECG='2', THALACH='172', EXANG='0', OLDPEAK='1.4', SLOPE='1', CA='0', THAL='3', NUM='0')]"
                    },
                    "execution_count": 1,
                    "metadata": {},
                    "output_type": "execute_result"
                }
            ],
            "source": "# The code was removed by Watson Studio for sharing."
        },
        {
            "cell_type": "code",
            "execution_count": null,
            "metadata": {},
            "outputs": [],
            "source": ""
        }
    ],
    "metadata": {
        "kernelspec": {
            "display_name": "Python 3.6 with Spark",
            "language": "python3",
            "name": "python36"
        },
        "language_info": {
            "codemirror_mode": {
                "name": "ipython",
                "version": 3
            },
            "file_extension": ".py",
            "mimetype": "text/x-python",
            "name": "python",
            "nbconvert_exporter": "python",
            "pygments_lexer": "ipython3",
            "version": "3.6.8"
        }
    },
    "nbformat": 4,
    "nbformat_minor": 1
}